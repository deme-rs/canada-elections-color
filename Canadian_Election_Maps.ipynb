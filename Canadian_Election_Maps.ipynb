{
 "cells": [
  {
   "cell_type": "markdown",
   "metadata": {},
   "source": [
    "## Color Canada 2015 à colorier\n",
    "\n",
    "The script below create a series of square-grid maps with the Canadian electoral districts. You can print and colour them while you watch the results unfold!\n",
    "Les commandes ci-dessous génèrent des cartes des comtés fédéraux canadiens. Elles peuvent être imprimées et coloriées pendant la soirée électorale!"
   ]
  },
  {
   "cell_type": "code",
   "execution_count": null,
   "metadata": {
    "collapsed": false
   },
   "outputs": [],
   "source": [
    "from chorogrid import Colorbin, Chorogrid\n",
    "import pandas as pd\n",
    "df = pd.read_csv('chorogrid/databases/canada_federal_ridings.csv')\n",
    "df_prov = pd.read_csv('chorogrid/databases/canada_provinces.csv')\n",
    "provinces = df.province.unique()"
   ]
  },
  {
   "cell_type": "code",
   "execution_count": null,
   "metadata": {
    "collapsed": false,
    "scrolled": true
   },
   "outputs": [],
   "source": [
    "cell_size = 30\n",
    "province_groups=[[\"BC\", \"YT\"],[\"AB\", \"SK\", \"MB\", \"NT\", \"NU\"],\n",
    "                 [\"ON\"], [\"QC\"], ['NL', 'PE', 'NS', 'NB'],\n",
    "                 ['NL', 'PE', 'NS', 'NB', 'QC', 'ON', 'MB', 'SK', 'AB', 'BC', 'YT', 'NT', 'NU']]\n",
    "\n",
    "for province_list in province_groups:\n",
    "    province_display_name = \"-\".join(province_list)\n",
    "    df_current_ridings = df[df.province.isin(province_list)]\n",
    "    cg_ridings = Chorogrid(df_current_ridings,\n",
    "                           list(df_current_ridings.federal_electoral_district), \n",
    "                           ['none' for province in list(df_current_ridings.province)],\n",
    "                           'federal_electoral_district')\n",
    "    cg_ridings.set_title(\"-\".join(province_list), font_dict={'font-size': 19})\n",
    "    cg_ridings.draw_squares(spacing_dict={'name_y_offset':3,\n",
    "                                          'cell_width': cell_size,\n",
    "                                          'roundedness': 2,\n",
    "                                          'stroke_width':1,\n",
    "                                          'stroke_color':'#999'},\n",
    "                            font_dict={'font-size':6,\n",
    "                                       'text-anchor': 'left'})\n",
    "\n",
    "    df_current_provinces = df_prov[df_prov.province.isin(province_list)]\n",
    "    cg_prov = Chorogrid(df_current_provinces,\n",
    "                        list(df_current_provinces.province), \n",
    "                        ['none' for x in list(df_current_ridings.province)],\n",
    "                        'province')\n",
    "    cg_prov.draw_multisquare(font_dict={'fill-opacity': 0}, \n",
    "                             spacing_dict={'cell_width': cell_size + 1,\n",
    "                                           'stroke_width': 1, \n",
    "                                           'stroke_color': '#000000'})\n",
    "\n",
    "    cg_ridings.done_and_overlay(cg_prov, save_filename=str.format('output/{}.svg', province_display_name), show=True)\n"
   ]
  }
 ],
 "metadata": {
  "kernelspec": {
   "display_name": "IPython (Python 3)",
   "language": "python",
   "name": "python3"
  },
  "language_info": {
   "codemirror_mode": {
    "name": "ipython",
    "version": 3
   },
   "file_extension": ".py",
   "mimetype": "text/x-python",
   "name": "python",
   "nbconvert_exporter": "python",
   "pygments_lexer": "ipython3",
   "version": "3.4.2"
  }
 },
 "nbformat": 4,
 "nbformat_minor": 0
}
